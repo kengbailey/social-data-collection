{
 "cells": [
  {
   "cell_type": "code",
   "execution_count": null,
   "id": "c1dad54c-d2e0-49c6-a466-b9aa2f160965",
   "metadata": {
    "scrolled": true
   },
   "outputs": [],
   "source": [
    "!pip install minio"
   ]
  },
  {
   "cell_type": "code",
   "execution_count": null,
   "id": "46a26414-6b62-4300-a707-f2fbb31f6303",
   "metadata": {},
   "outputs": [],
   "source": [
    "from minio import Minio\n",
    "import os \n",
    "\n",
    "\n",
    "client = Minio(\"192.168.8.116:9000\",\n",
    "    access_key=\"NFOMw4IwCgi1UZ9LYMoC\",\n",
    "    secret_key=\"ilGeAyVuFPMuehANtq2g345wwDMGYG2YevQIIK8v\",\n",
    "    secure=False,\n",
    ")"
   ]
  },
  {
   "cell_type": "code",
   "execution_count": null,
   "id": "84e52682-654c-4f3e-bc88-729b3cd61deb",
   "metadata": {},
   "outputs": [],
   "source": [
    "buckets = client.list_buckets()\n",
    "for bucket in buckets:\n",
    "    print(bucket.name, bucket.creation_date)"
   ]
  },
  {
   "cell_type": "code",
   "execution_count": null,
   "id": "25706902-a5b3-4871-b698-d9a2bdb28712",
   "metadata": {},
   "outputs": [],
   "source": [
    "# Upload videos to s3 bucket\n",
    "directory_path = 'data/'\n",
    "bucket_name = 'black-demo-data'\n",
    "for root, dirs, files in os.walk(directory_path):\n",
    "    for file_name in files:\n",
    "        file_path = os.path.join(root, file_name)\n",
    "\n",
    "        # Read the file and convert it to byte string.\n",
    "        with open(file_path, \"rb\") as file_data:\n",
    "            if \"m4a\" in file_path:\n",
    "\n",
    "                client.fput_object(bucket_name, 'videos/'+file_name, file_path,)\n",
    "\n",
    "                print(f\"'{file_name}' is successfully uploaded.\")"
   ]
  }
 ],
 "metadata": {
  "kernelspec": {
   "display_name": "Python 3 (ipykernel)",
   "language": "python",
   "name": "python3"
  },
  "language_info": {
   "codemirror_mode": {
    "name": "ipython",
    "version": 3
   },
   "file_extension": ".py",
   "mimetype": "text/x-python",
   "name": "python",
   "nbconvert_exporter": "python",
   "pygments_lexer": "ipython3",
   "version": "3.11.8"
  }
 },
 "nbformat": 4,
 "nbformat_minor": 5
}
