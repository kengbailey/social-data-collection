{
 "cells": [
  {
   "cell_type": "markdown",
   "metadata": {},
   "source": [
    "## Amit DB\n",
    "\n",
    "### Tables\n",
    "\n",
    "```sql\n",
    "CREATE TABLE IF NOT EXISTS llm_analysis (\n",
    "    id INTEGER PRIMARY KEY AUTOINCREMENT,\n",
    "    prompt_text TEXT NOT NULL,\n",
    "    llm_params TEXT NOT NULL,\n",
    "    output_text TEXT NOT NULL,\n",
    "    output_stats TEXT,\n",
    "    context TEXT,\n",
    "    date_created DATETIME DEFAULT CURRENT_TIMESTAMP\n",
    ");\n",
    "\n",
    "\n",
    "CREATE TABLE IF NOT EXISTS video_transcription (\n",
    "    id INTEGER PRIMARY KEY AUTOINCREMENT,\n",
    "    filename TEXT NOT NULL,\n",
    "    transcription TEXT NOT NULL,\n",
    "    url TEXT NOT NULL,\n",
    "    context TEXT,\n",
    "    date_created DATETIME DEFAULT CURRENT_TIMESTAMP\n",
    ");\n",
    "\n",
    "CREATE TABLE IF NOT EXISTS video_comments (\n",
    "    id INTEGER PRIMARY KEY AUTOINCREMENT,\n",
    "    video_id TEXT NOT NULL,\n",
    "    user_id TEXT NOT NULL,\n",
    "    text TEXT NOT NULL,\n",
    "    comment_time TIMESTAMP,\n",
    "    date_created DATETIME DEFAULT CURRENT_TIMESTAMP\n",
    ");\n",
    "\n",
    "```"
   ]
  },
  {
   "cell_type": "code",
   "execution_count": 8,
   "metadata": {},
   "outputs": [
    {
     "data": {
      "text/plain": [
       "<sqlite3.Cursor at 0x7bb4f1d160c0>"
      ]
     },
     "execution_count": 8,
     "metadata": {},
     "output_type": "execute_result"
    }
   ],
   "source": [
    "import sqlite3\n",
    "import pandas as pd\n",
    "\n",
    "# Connect to the SQLite database file on disk\n",
    "conn = sqlite3.connect('data/database.db')  \n",
    "\n",
    "sql_create_comments_table = \"\"\"\n",
    "CREATE TABLE IF NOT EXISTS video_comments (\n",
    "    id INTEGER PRIMARY KEY AUTOINCREMENT,\n",
    "    video_id TEXT NOT NULL,\n",
    "    user_id TEXT NOT NULL,\n",
    "    text TEXT NOT NULL,\n",
    "    comment_time TIMESTAMP,\n",
    "    date_created DATETIME DEFAULT CURRENT_TIMESTAMP\n",
    ");\n",
    "\"\"\"\n",
    "\n",
    "# sql_drop_table = \"drop table video_comments;\"\n",
    "\n",
    "c = conn.cursor()\n",
    "c.execute(sql_create_comments_table)\n"
   ]
  },
  {
   "cell_type": "code",
   "execution_count": 15,
   "metadata": {},
   "outputs": [],
   "source": [
    "import sqlite3\n",
    "import pandas as pd\n",
    "pd.set_option('display.max_colwidth', None)\n",
    "\n",
    "\n",
    "# Connect to the SQLite database file on disk\n",
    "conn = sqlite3.connect('data/database.db')  \n",
    "\n",
    "# Read a specific table into a DataFrame\n",
    "df = pd.read_sql_query(\"SELECT filename from video_transcription\", conn)  # replace 'my_table' with your actual table name"
   ]
  },
  {
   "cell_type": "code",
   "execution_count": 16,
   "metadata": {},
   "outputs": [
    {
     "data": {
      "text/html": [
       "<div>\n",
       "<style scoped>\n",
       "    .dataframe tbody tr th:only-of-type {\n",
       "        vertical-align: middle;\n",
       "    }\n",
       "\n",
       "    .dataframe tbody tr th {\n",
       "        vertical-align: top;\n",
       "    }\n",
       "\n",
       "    .dataframe thead th {\n",
       "        text-align: right;\n",
       "    }\n",
       "</style>\n",
       "<table border=\"1\" class=\"dataframe\">\n",
       "  <thead>\n",
       "    <tr style=\"text-align: right;\">\n",
       "      <th></th>\n",
       "      <th>filename</th>\n",
       "    </tr>\n",
       "  </thead>\n",
       "  <tbody>\n",
       "    <tr>\n",
       "      <th>0</th>\n",
       "      <td>data/360_wave_product_brushes_and_durags_upda[cdOLDaqqwH0].m4a</td>\n",
       "    </tr>\n",
       "    <tr>\n",
       "      <th>1</th>\n",
       "      <td>data/derma_roller_hair_regrowth_results_6_mon[9IKQjdLweOM].m4a</td>\n",
       "    </tr>\n",
       "    <tr>\n",
       "      <th>2</th>\n",
       "      <td>data/how_to_get_waves_5_step_tutorial__gqm4a[WJD8P9Fi1yc].m4a</td>\n",
       "    </tr>\n",
       "    <tr>\n",
       "      <th>3</th>\n",
       "      <td>data/how_to_get_glass_skin_for_black_menm4a[10Y6r490TZo].m4a</td>\n",
       "    </tr>\n",
       "    <tr>\n",
       "      <th>4</th>\n",
       "      <td>data/how_to_derma_roll_for_thinning_hairline_[-X2itF1rx1M].m4a</td>\n",
       "    </tr>\n",
       "    <tr>\n",
       "      <th>5</th>\n",
       "      <td>data/how_to_tie_durag_asap_ferg[Um98Xwi8S_Y].m4a</td>\n",
       "    </tr>\n",
       "    <tr>\n",
       "      <th>6</th>\n",
       "      <td>data/how_to_grow_more_facial_hair_in_60_days_[wC7XyHXhxB0].m4a</td>\n",
       "    </tr>\n",
       "    <tr>\n",
       "      <th>7</th>\n",
       "      <td>data/natural_vs_unnatural_360_waves_products_[vVfeddJV35w].m4a</td>\n",
       "    </tr>\n",
       "    <tr>\n",
       "      <th>8</th>\n",
       "      <td>data/360_wave_productsm4a[eoyJpruHnHo].m4a</td>\n",
       "    </tr>\n",
       "  </tbody>\n",
       "</table>\n",
       "</div>"
      ],
      "text/plain": [
       "                                                         filename\n",
       "0  data/360_wave_product_brushes_and_durags_upda[cdOLDaqqwH0].m4a\n",
       "1  data/derma_roller_hair_regrowth_results_6_mon[9IKQjdLweOM].m4a\n",
       "2   data/how_to_get_waves_5_step_tutorial__gqm4a[WJD8P9Fi1yc].m4a\n",
       "3    data/how_to_get_glass_skin_for_black_menm4a[10Y6r490TZo].m4a\n",
       "4  data/how_to_derma_roll_for_thinning_hairline_[-X2itF1rx1M].m4a\n",
       "5                data/how_to_tie_durag_asap_ferg[Um98Xwi8S_Y].m4a\n",
       "6  data/how_to_grow_more_facial_hair_in_60_days_[wC7XyHXhxB0].m4a\n",
       "7  data/natural_vs_unnatural_360_waves_products_[vVfeddJV35w].m4a\n",
       "8                      data/360_wave_productsm4a[eoyJpruHnHo].m4a"
      ]
     },
     "execution_count": 16,
     "metadata": {},
     "output_type": "execute_result"
    }
   ],
   "source": [
    "df"
   ]
  },
  {
   "cell_type": "code",
   "execution_count": null,
   "metadata": {},
   "outputs": [],
   "source": []
  }
 ],
 "metadata": {
  "kernelspec": {
   "display_name": "Python 3 (ipykernel)",
   "language": "python",
   "name": "python3"
  },
  "language_info": {
   "codemirror_mode": {
    "name": "ipython",
    "version": 3
   },
   "file_extension": ".py",
   "mimetype": "text/x-python",
   "name": "python",
   "nbconvert_exporter": "python",
   "pygments_lexer": "ipython3",
   "version": "3.11.8"
  }
 },
 "nbformat": 4,
 "nbformat_minor": 4
}
