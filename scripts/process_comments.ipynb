{
 "cells": [
  {
   "cell_type": "code",
   "execution_count": null,
   "metadata": {},
   "outputs": [],
   "source": [
    "# !pip install langchain-community\n",
    "# !pip install psycopg2-binary\n",
    "# !pip install ell-ai\n",
    "# !pip install openai\n",
    "!pip install anthropic"
   ]
  },
  {
   "cell_type": "code",
   "execution_count": 31,
   "metadata": {},
   "outputs": [],
   "source": [
    "from langchain_community.llms import Ollama\n",
    "from dataclasses import dataclass\n",
    "import psycopg2\n",
    "\n",
    "@dataclass\n",
    "class Comment:\n",
    "    author: str\n",
    "    text: str\n",
    "    comment_id: str \n",
    "\n",
    "# Fetch comments from database\n",
    "def fetch_comments(conn, video_id):\n",
    "    cur = conn.cursor()\n",
    "\n",
    "    postgreSQL_select_Query = \"SELECT author, text, id FROM youtube_comments WHERE video_id=%s limit 10\"\n",
    "    cur.execute(postgreSQL_select_Query, (video_id,))\n",
    "    comment_records = cur.fetchall()\n",
    "\n",
    "    cur.close()\n",
    "\n",
    "    return [Comment(author=row[0], text=row[1], comment_id=row[2]) for row in comment_records]"
   ]
  },
  {
   "cell_type": "code",
   "execution_count": 32,
   "metadata": {},
   "outputs": [],
   "source": [
    "import psycopg2\n",
    "from psycopg2 import sql\n",
    "\n",
    "# Define the function to insert sentiment data\n",
    "def insert_sentiment_data(conn, comment_id, sentiment_score, sentiment_detected, llm_model):\n",
    "    try:\n",
    "        # Create a cursor object using the connection\n",
    "        cursor = conn.cursor()\n",
    "\n",
    "        # Define the SQL query for insertion\n",
    "        insert_query = \"\"\"\n",
    "        INSERT INTO youtube_comment_sentiments (comment_id, sentiment_score, sentiment_detected, llm_model)\n",
    "        VALUES (%s, %s, %s, %s)\n",
    "        RETURNING id;\n",
    "        \"\"\"\n",
    "\n",
    "        # Execute the insertion query with the provided data\n",
    "        cursor.execute(insert_query, (comment_id, sentiment_score, sentiment_detected, llm_model))\n",
    "\n",
    "        # Fetch the returned id of the inserted record (autoincrement ID)\n",
    "        inserted_id = cursor.fetchone()[0]\n",
    "\n",
    "        # Commit the transaction to make the changes in the database permanent\n",
    "        conn.commit()\n",
    "\n",
    "        # Close the cursor\n",
    "        cursor.close()\n",
    "\n",
    "        print(f\"Sentiment data inserted with ID {inserted_id}\")\n",
    "        return inserted_id\n",
    "    except Exception as e:\n",
    "        # If something goes wrong, rollback and print the error\n",
    "        conn.rollback()\n",
    "        print(f\"Error inserting sentiment data: {e}\")\n",
    "        return None"
   ]
  },
  {
   "cell_type": "code",
   "execution_count": 29,
   "metadata": {},
   "outputs": [],
   "source": [
    "import ell\n",
    "from openai import OpenAI\n",
    "\n",
    "\n",
    "client = OpenAI(\n",
    "    base_url='http://192.168.8.116:11434/v1/',\n",
    "    api_key='ollama',\n",
    ")\n",
    "MODEL = 'mistral:7b-instruct-v0.3-fp16'\n",
    "ell.config.verbose = False\n",
    "ell.config.register_model(MODEL, client)\n",
    "\n",
    "@ell.simple(model=MODEL, client=client, temperature=0.1)\n",
    "def extract_comment_sentiment(video_summary: str, video_comment: str):\n",
    "    \"\"\"You are a helpful assistant that provides sentiment analysis on youtube comments. \n",
    "    When given a youtube video summary and comment, you provide the sentiment analysis.\n",
    "    You respond w/ a JSON object containing 'sentiment_score'(-1 to 1) and \n",
    "    'sentiment_detected'(positive or negative). You respond only with JSON; you do not \n",
    "    offer an explanation for the sentiment analysis\"\"\"\n",
    "    return f\"Video Summary: {video_summary}\\n\\nVideo Comment: {video_comment}\" "
   ]
  },
  {
   "cell_type": "code",
   "execution_count": 33,
   "metadata": {},
   "outputs": [
    {
     "name": "stdout",
     "output_type": "stream",
     "text": [
      "Sentiment data inserted with ID 1\n",
      "1\n",
      "Comment: No Fowl “ME NUH KNOW” 🙄😒 Chro man 😂😂😂😂😂😂😂😂😂\n",
      "Sentiment:  {\"sentiment_score\": 0.2, \"sentiment_detected\": \"negative\"}\n",
      "\n"
     ]
    }
   ],
   "source": [
    "import json \n",
    "\n",
    "video_id = \"kjtbpWS-EjI\"\n",
    "video_summary = \"The video involves a person preparing and cooking fish, including cleaning, seasoning, and cooking it, while providing commentary throughout the process. The person talks about enjoying the cooking experience, using various spices, handling the fish, and ensuring everything is seasoned well. There’s mention of serving the food to others, giving thanks for the meal, and noting that everyone enjoys it. The vibe of the video is casual, with some positivity and encouragement, including phrases like 'bless up' and 'good tastable.' It's clear that the person is passionate about what they’re doing and enjoys sharing the process with viewers.\"\n",
    "\n",
    "conn = psycopg2.connect(\n",
    "    database=\"social-data\", \n",
    "    user='syran', \n",
    "    password='sk8erb01', \n",
    "    host='192.168.8.116')\n",
    "\n",
    "comments = fetch_comments(conn, video_id)\n",
    "\n",
    "# process comments\n",
    "for comment in comments:\n",
    "    comment_sentiment = extract_comment_sentiment(video_summary, comment.text)\n",
    "    json_object = json.loads(comment_sentiment)\n",
    "    inserted_id = insert_sentiment_data(conn, comment.comment_id, json_object['sentiment_score'], json_object['sentiment_detected'], MODEL)\n",
    "    print(inserted_id)\n",
    "    print(f\"Comment: {comment.text}\\nSentiment: {comment_sentiment}\\n\")\n",
    "    break\n"
   ]
  }
 ],
 "metadata": {
  "kernelspec": {
   "display_name": "venv",
   "language": "python",
   "name": "python3"
  },
  "language_info": {
   "codemirror_mode": {
    "name": "ipython",
    "version": 3
   },
   "file_extension": ".py",
   "mimetype": "text/x-python",
   "name": "python",
   "nbconvert_exporter": "python",
   "pygments_lexer": "ipython3",
   "version": "3.12.2"
  }
 },
 "nbformat": 4,
 "nbformat_minor": 2
}
